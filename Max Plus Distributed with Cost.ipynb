{
 "cells": [
  {
   "cell_type": "markdown",
   "metadata": {},
   "source": [
    "## Max Plus Distributed With Cost"
   ]
  },
  {
   "cell_type": "code",
   "execution_count": null,
   "metadata": {},
   "outputs": [],
   "source": [
    "m1 = 1\n",
    "if m1:\n",
    "    print(m1)"
   ]
  },
  {
   "cell_type": "code",
   "execution_count": null,
   "metadata": {},
   "outputs": [],
   "source": [
    "for (1 <= m <= M + 2(N - 1))  True:\n",
    "    print(m)"
   ]
  },
  {
   "cell_type": "code",
   "execution_count": null,
   "metadata": {},
   "outputs": [],
   "source": [
    "𝜇𝑖𝑗 = 0\n",
    "𝜇𝑗𝑖 = 0\n",
    "j = [1]\n",
    "ai = 0\n",
    "aj = 0\n",
    "qi_ai = 0\n",
    "ri = 0\n",
    "Gd = 0\n",
    "R_a = Gd\n",
    "m = 1\n",
    "M =2\n",
    "N = 1\n",
    "m1 = 1\n",
    "fixed_point = 5\n",
    "while fixed_point > 0:\n",
    "    print(fixed_point)\n",
    "    fixed_point-=1\n",
    "    if m1:\n",
    "        print(m1)\n",
    "        while 1 <= m <= M + 2*(N-1):\n",
    "            for x in j:\n",
    "                µij_(aj) = Qi_ai - ci + Qij(ai, aj) + ∑k∈Γ(i)\\ j µki(ai) + cij\n",
    "                µij_(aj) = maxai(Qi_ai - ci + Qij(ai, aj) + ∑k∈Γ(i)\\ j µki(ai) + cij)\n",
    "                #b normalize message µij_(aj) for convergence\n",
    "                m1 = µij_(aj)\n",
    "                if j != m1:\n",
    "                    j = m1\n",
    "            break\n",
    "        Calculate with (12) the optimal individual action i, \n",
    "        ai = argmax ai (0, [Qi(ai) − 𝑐𝑐𝑖𝑖 + ∑𝑗𝑗∈Γ(𝑖𝑖) 𝜇𝜇𝑗𝑗𝑖𝑖(𝑎𝑎𝑖𝑖)]�\n",
    "        Determine 𝒂′ the optimal global action so far including all previous a`i\n",
    "        break\n",
    "    break\n",
    "    if m2:\n",
    "        Lock 𝑎𝑖′, set 𝑟𝑖 = 0 send the evaluation request to all children\n",
    "        if agent 𝑖 is a leaf, then initiate the accumulation payoff\n",
    "        end\n",
    "    #end if m2\n",
    "    if m3:\n",
    "        ri = ri + rj\n",
    "        add payoff child 𝑟𝑟𝑗𝑗\n",
    "        if the agent 𝑖𝑖 is a root send the global payoff to all children\n",
    "        else send the global payoff to parent\n",
    "    #end if m3\n",
    "    END IF 𝑚𝑚3\n",
    "    if m4:\n",
    "        Calculate the evaluated global reward\n",
    "        if anytime == True:\n",
    "            if R >= r:\n",
    "                ai* = ai`\n",
    "                r = R _ai`\n",
    "            else:\n",
    "                ai* = ai`\n",
    "    #end if m4\n",
    "break\n",
    "print(R_a, qi)"
   ]
  },
  {
   "cell_type": "code",
   "execution_count": null,
   "metadata": {},
   "outputs": [],
   "source": []
  }
 ],
 "metadata": {
  "kernelspec": {
   "display_name": "Python 3",
   "language": "python",
   "name": "python3"
  },
  "language_info": {
   "codemirror_mode": {
    "name": "ipython",
    "version": 3
   },
   "file_extension": ".py",
   "mimetype": "text/x-python",
   "name": "python",
   "nbconvert_exporter": "python",
   "pygments_lexer": "ipython3",
   "version": "3.8.5"
  }
 },
 "nbformat": 4,
 "nbformat_minor": 4
}
